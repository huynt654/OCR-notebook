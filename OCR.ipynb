{
  "cells": [
    {
      "cell_type": "code",
      "execution_count": null,
      "metadata": {
        "id": "FOgsH4fL4H-s"
      },
      "outputs": [],
      "source": [
        "from IPython.display import clear_output\n",
        "!pip install vietocr\n",
        "clear_output()"
      ]
    },
    {
      "cell_type": "code",
      "execution_count": null,
      "metadata": {
        "colab": {
          "base_uri": "https://localhost:8080/"
        },
        "id": "txer5XMq4IBP",
        "outputId": "232b26a3-733c-4d4e-b3d1-3103a8a77b51"
      },
      "outputs": [
        {
          "name": "stdout",
          "output_type": "stream",
          "text": [
            "Cloning into 'craft-text-detector'...\n",
            "remote: Enumerating objects: 254, done.\u001b[K\n",
            "remote: Counting objects: 100% (254/254), done.\u001b[K\n",
            "remote: Compressing objects: 100% (114/114), done.\u001b[K\n",
            "remote: Total 254 (delta 136), reused 242 (delta 131), pack-reused 0\u001b[K\n",
            "Receiving objects: 100% (254/254), 1.52 MiB | 26.43 MiB/s, done.\n",
            "Resolving deltas: 100% (136/136), done.\n"
          ]
        }
      ],
      "source": [
        "!git clone https://github.com/fcakyon/craft-text-detector.git"
      ]
    },
    {
      "cell_type": "code",
      "execution_count": null,
      "metadata": {
        "colab": {
          "base_uri": "https://localhost:8080/"
        },
        "id": "F8o0mJwBKx-i",
        "outputId": "477346e3-829e-48ab-d63e-8cb4c79ab015"
      },
      "outputs": [
        {
          "name": "stdout",
          "output_type": "stream",
          "text": [
            "/content/craft-text-detector\n"
          ]
        }
      ],
      "source": [
        "%cd craft-text-detector"
      ]
    },
    {
      "cell_type": "code",
      "execution_count": null,
      "metadata": {
        "colab": {
          "base_uri": "https://localhost:8080/"
        },
        "id": "g4IahDhUY-ea",
        "outputId": "503f9f03-5d24-4ad0-8843-980646bdf43a"
      },
      "outputs": [
        {
          "name": "stdout",
          "output_type": "stream",
          "text": [
            "/content/craft-text-detector\n"
          ]
        }
      ],
      "source": [
        "!pwd"
      ]
    },
    {
      "cell_type": "code",
      "execution_count": null,
      "metadata": {
        "colab": {
          "base_uri": "https://localhost:8080/"
        },
        "id": "63pbQUHGLP9I",
        "outputId": "2ad13531-612d-49dc-a171-46437d7f294c"
      },
      "outputs": [
        {
          "name": "stdout",
          "output_type": "stream",
          "text": [
            "chmod: cannot access 'vgg16_bn.py': No such file or directory\n"
          ]
        }
      ],
      "source": [
        "!chmod +x vgg16_bn.py"
      ]
    },
    {
      "cell_type": "code",
      "execution_count": null,
      "metadata": {
        "id": "xY8wZIMuLT2q"
      },
      "outputs": [],
      "source": []
    },
    {
      "cell_type": "code",
      "execution_count": null,
      "metadata": {
        "id": "Rof6T5ZtsB0b"
      },
      "outputs": [],
      "source": [
        "from PIL import Image\n",
        "\n",
        "from vietocr.tool.predictor import Predictor\n",
        "from vietocr.tool.config import Cfg\n",
        "from craft_text_detector import Craft\n",
        "\n",
        "import os\n",
        "import cv2\n",
        "import numpy as np\n",
        "import pandas as pd\n",
        "import time\n",
        "import sys\n",
        "import re\n",
        "from glob import glob\n",
        "from collections import Counter\n",
        "from tqdm import tqdm\n",
        "\n",
        "import json\n",
        "import argparse\n",
        "import requests\n",
        "\n"
      ]
    },
    {
      "cell_type": "code",
      "execution_count": null,
      "metadata": {
        "id": "5CfwFBpAEyh3"
      },
      "outputs": [],
      "source": [
        "def list_files(in_path):\n",
        "    img_files = []\n",
        "    mask_files = []\n",
        "    gt_files = []\n",
        "    for (dirpath, dirnames, filenames) in os.walk(in_path):\n",
        "        for file in filenames:\n",
        "            filename, ext = os.path.splitext(file)\n",
        "            ext = str.lower(ext)\n",
        "            if ext == '.jpg' or ext == '.jpeg' or ext == '.gif' or ext == '.png' or ext == '.pgm':\n",
        "                img_files.append(os.path.join(dirpath, file))\n",
        "            elif ext == '.bmp':\n",
        "                mask_files.append(os.path.join(dirpath, file))\n",
        "            elif ext == '.xml' or ext == '.gt' or ext == '.txt':\n",
        "                gt_files.append(os.path.join(dirpath, file))\n",
        "            elif ext == '.zip':\n",
        "                continue\n",
        "    # img_files.sort()\n",
        "    # mask_files.sort()\n",
        "    # gt_files.sort()\n",
        "    return img_files, mask_files, gt_files"
      ]
    },
    {
      "cell_type": "code",
      "execution_count": null,
      "metadata": {
        "id": "Y7sd2AIf4IED"
      },
      "outputs": [],
      "source": [
        "# 1 image\n",
        "def ocr(img_path, detector, craft):\n",
        "\n",
        "  img_name = img_path.split('/')[-1].replace('.jpg', '')\n",
        "  # read image_path\n",
        "  frame = cv2.imread(img_path)\n",
        "  frame = frame[0:660, :1280]\n",
        "  # prediction\n",
        "  prediction_result = craft.detect_text(frame)\n",
        "  boxes = prediction_result['boxes']\n",
        "  # Sorted dt_boxes\n",
        "  if len(boxes) > 0:\n",
        "    boxes = sorted(boxes, key = lambda x:x[0][1])\n",
        "  # each box predict a word, which is at the box\n",
        "  output = []\n",
        "  for idx, box in enumerate(boxes):\n",
        "    try:\n",
        "       box = np.array(box).astype(np.int32).reshape(-1, 2)\n",
        "       point1, point2, point3, point4 = box\n",
        "       x, y, w, h = point1[0],point1[1],point2[0] - point1[0],point4[1]-point1[1]\n",
        "       crop_img = frame[y:y+h, x:x+w]\n",
        "       crop_img = Image.fromarray(crop_img)\n",
        "       s = detector.predict(crop_img)\n",
        "       output.append(s)\n",
        "    except:\n",
        "       output.append('')\n",
        "\n",
        "\n",
        "\n",
        "\n",
        "  return text, img_name # text of 1 image"
      ]
    },
    {
      "cell_type": "code",
      "execution_count": null,
      "metadata": {
        "id": "q6yBn_HsEeZM"
      },
      "outputs": [],
      "source": [
        "def postprocessing(text, texts, idx):\n",
        "    # print(text)\n",
        "    new_string = ' '.join(text)\n",
        "    # print(new_string)\n",
        "    texts[idx] = new_string\n",
        "    # print(text)\n",
        "    texts[idx] = np.array(texts[idx])\n",
        "    if text == '':\n",
        "        num_words = 0\n",
        "    else:\n",
        "        num_words = len(text.split(' '))\n",
        "\n",
        "    return num_words"
      ]
    },
    {
      "cell_type": "code",
      "execution_count": null,
      "metadata": {
        "id": "VnVDRW7lC7ws"
      },
      "outputs": [],
      "source": [
        "def inference(folder_path, detector, craft):\n",
        "\n",
        "  text_outputs = []\n",
        "  img_names = []\n",
        "  number_words = []\n",
        "\n",
        "\n",
        "  image_paths, _, _ = list_files(folder_path)\n",
        "  for image_path in image_paths:\n",
        "       text, img_name = ocr(image_path, detector, craft)\n",
        "       text_outputs.append(text)\n",
        "       img_names.append(img_name)\n",
        "\n",
        "\n",
        "  for i, text_output in enumerate(text_outputs):\n",
        "        # text_output là output của 1 ảnh\n",
        "        # text_outputs là output của 1 video\n",
        "        num_words = postprocessing(text_output, text_outputs, i)\n",
        "        number_words.append(num_words)\n",
        "\n",
        "  dataframe = {\n",
        "        'frame_idx': img_names,\n",
        "        'text_outputs': text_outputs,\n",
        "        'num_words': number_words\n",
        "  }\n",
        "  df = pd.DataFrame(dataframe)\n",
        "\n",
        "  # custom path to save result\n",
        "  base_path = '/content/drive/MyDrive/OCR'\n",
        "  video_name = folder_path.split('/')[-1]\n",
        "  path = f'{base_path}/{video_name}.csv'\n",
        "\n",
        "  df.to_csv(path)\n",
        "\n",
        "  print(f'Done {video_name}')"
      ]
    },
    {
      "cell_type": "code",
      "execution_count": null,
      "metadata": {
        "id": "AWL9rbHmJcAP"
      },
      "outputs": [],
      "source": []
    },
    {
      "cell_type": "code",
      "execution_count": null,
      "metadata": {
        "colab": {
          "base_uri": "https://localhost:8080/"
        },
        "id": "HOu_-62xFEnI",
        "outputId": "1b2b596c-8d3d-4889-fa12-0bf12cd233d7"
      },
      "outputs": [
        {
          "name": "stderr",
          "output_type": "stream",
          "text": [
            "/usr/local/lib/python3.10/dist-packages/torchvision/models/_utils.py:208: UserWarning: The parameter 'pretrained' is deprecated since 0.13 and may be removed in the future, please use 'weights' instead.\n",
            "  warnings.warn(\n",
            "/usr/local/lib/python3.10/dist-packages/torchvision/models/_utils.py:223: UserWarning: Arguments other than a weight enum or `None` for 'weights' are deprecated since 0.13 and may be removed in the future. The current behavior is equivalent to passing `weights=VGG19_BN_Weights.IMAGENET1K_V1`. You can also use `weights=VGG19_BN_Weights.DEFAULT` to get the most up-to-date weights.\n",
            "  warnings.warn(msg)\n",
            "Downloading: \"https://download.pytorch.org/models/vgg19_bn-c79401a0.pth\" to /root/.cache/torch/hub/checkpoints/vgg19_bn-c79401a0.pth\n",
            "100%|██████████| 548M/548M [00:01<00:00, 369MB/s]\n",
            "/usr/local/lib/python3.10/dist-packages/torchvision/models/_utils.py:223: UserWarning: Arguments other than a weight enum or `None` for 'weights' are deprecated since 0.13 and may be removed in the future. The current behavior is equivalent to passing `weights=None`.\n",
            "  warnings.warn(msg)\n"
          ]
        },
        {
          "name": "stdout",
          "output_type": "stream",
          "text": [
            "Craft text detector weight will be downloaded to /root/.craft_text_detector/weights/craft_mlt_25k.pth\n"
          ]
        },
        {
          "name": "stderr",
          "output_type": "stream",
          "text": [
            "Downloading...\n",
            "From: https://drive.google.com/uc?id=1bupFXqT-VU6Jjeul13XP7yx2Sg5IHr4J\n",
            "To: /root/.craft_text_detector/weights/craft_mlt_25k.pth\n",
            "100%|██████████| 83.2M/83.2M [00:00<00:00, 103MB/s]\n"
          ]
        },
        {
          "name": "stdout",
          "output_type": "stream",
          "text": [
            "Craft text refiner weight will be downloaded to /root/.craft_text_detector/weights/craft_refiner_CTW1500.pth\n"
          ]
        },
        {
          "name": "stderr",
          "output_type": "stream",
          "text": [
            "Downloading...\n",
            "From: https://drive.google.com/uc?id=1xcE9qpJXp4ofINwXWVhhQIh9S8Z7cuGj\n",
            "To: /root/.craft_text_detector/weights/craft_refiner_CTW1500.pth\n",
            "100%|██████████| 1.85M/1.85M [00:00<00:00, 167MB/s]\n"
          ]
        }
      ],
      "source": [
        "config_vietorc = Cfg.load_config_from_name(\"vgg_transformer\")\n",
        "config_vietorc['weights'] = '/content/drive/MyDrive/OCR/weight/vgg_transformer.pth'\n",
        "config_vietorc['cnn']['pretrained']=True\n",
        "config_vietorc['device'] = 'cuda:0'\n",
        "config_vietorc['predictor']['beamsearch']=False\n",
        "\n",
        "\n",
        "detector = Predictor(config_vietorc)\n",
        "craft = Craft(output_dir=None, crop_type=\"box\", cuda=True)"
      ]
    },
    {
      "cell_type": "code",
      "execution_count": null,
      "metadata": {
        "colab": {
          "background_save": true
        },
        "id": "BlvoLw8JCtWq"
      },
      "outputs": [],
      "source": [
        "def join_path(prefix, suffixes):\n",
        "    # frefix = base_path\n",
        "    # suffix = 1 list == batches\n",
        "    for idx, suffix in enumerate(suffixes):\n",
        "         suffix = os.path.join(prefix, suffix)\n",
        "         suffixes[idx] = suffix\n",
        "base_path = '/content/drive/MyDrive/'\n",
        "\n",
        "#input for inference is folder\n",
        "folder_path =     #\n",
        "path = os.path.join(base_path, folder_path)\n",
        "\n",
        "# inference\n",
        "\n",
        "inference(path, detector, craft)"
      ]
    },
    {
      "cell_type": "code",
      "execution_count": null,
      "metadata": {
        "id": "1xUPMO9KCc2i"
      },
      "outputs": [],
      "source": []
    },
    {
      "cell_type": "code",
      "execution_count": null,
      "metadata": {
        "id": "KLInK3QkCTVi"
      },
      "outputs": [],
      "source": []
    },
    {
      "cell_type": "code",
      "execution_count": null,
      "metadata": {
        "id": "WbiXGRep4IGr"
      },
      "outputs": [],
      "source": []
    },
    {
      "cell_type": "code",
      "execution_count": null,
      "metadata": {
        "id": "y51E9_L450DN"
      },
      "outputs": [],
      "source": []
    },
    {
      "cell_type": "code",
      "execution_count": null,
      "metadata": {
        "id": "gD9h4Tr25kev"
      },
      "outputs": [],
      "source": []
    },
    {
      "cell_type": "code",
      "execution_count": null,
      "metadata": {
        "id": "U4tmG1Od5h-7"
      },
      "outputs": [],
      "source": []
    },
    {
      "cell_type": "code",
      "execution_count": null,
      "metadata": {
        "id": "E4Sov72A5spq"
      },
      "outputs": [],
      "source": []
    },
    {
      "cell_type": "code",
      "execution_count": null,
      "metadata": {
        "id": "gY13KJLE6Ssp"
      },
      "outputs": [],
      "source": []
    }
  ],
  "metadata": {
    "accelerator": "GPU",
    "colab": {
      "machine_shape": "hm",
      "provenance": []
    },
    "kernelspec": {
      "display_name": "Python 3",
      "name": "python3"
    },
    "language_info": {
      "name": "python"
    }
  },
  "nbformat": 4,
  "nbformat_minor": 0
}